{
 "cells": [
  {
   "cell_type": "code",
   "execution_count": 5,
   "metadata": {},
   "outputs": [],
   "source": [
    "import numpy as np\n",
    "#Load the predicted 9x12 array\n",
    "\n",
    "#1st pass\n",
    "im1=np.array([[4,4,4,4,4,4,4,4,4,4,4,4],\n",
    "              [6,6,2,1,6,6,6,6,6,1,1,2],\n",
    "              [6,6,6,1,1,6,6,6,6,1,1,2],\n",
    "              [2,6,6,6,1,5,5,5,6,1,1,2],\n",
    "              [5,6,6,6,5,5,5,5,5,1,5,5],\n",
    "              [5,5,2,5,5,5,5,5,5,1,5,5],\n",
    "              [5,5,2,5,5,5,5,5,5,6,5,5],\n",
    "              [2,6,6,6,5,5,5,5,5,6,2,2],\n",
    "              [2,6,6,6,6,6,6,2,2,6,2,2]])\n",
    "\n",
    "#zoomed into driveway\n",
    "im2=np.array([[2,2,2,1,1,1,2,6,6,6,6,6],\n",
    "              [2,2,2,1,1,1,2,6,6,6,6,6],\n",
    "              [2,2,2,1,1,1,2,6,6,6,6,6],\n",
    "              [2,2,2,1,1,1,1,6,6,6,6,6],\n",
    "              [2,2,2,6,1,1,1,6,6,6,6,6],\n",
    "              [6,6,6,6,1,1,1,1,6,6,6,6],\n",
    "              [6,6,6,6,6,1,1,1,6,6,6,6],\n",
    "              [6,6,6,6,6,6,1,1,2,2,2,2],\n",
    "              [6,6,6,6,6,6,6,1,5,5,5,5]])"
   ]
  },
  {
   "cell_type": "code",
   "execution_count": 6,
   "metadata": {},
   "outputs": [
    {
     "name": "stdout",
     "output_type": "stream",
     "text": [
      "[(2.0, 3.5), (2.625, 9.375)]\n",
      "(2.0, 3.5)\n"
     ]
    }
   ],
   "source": [
    "#%%timeit\n",
    "from scipy.ndimage.measurements import label\n",
    "from scipy.ndimage.measurements import center_of_mass\n",
    "\n",
    "A=im1\n",
    "\n",
    "#Center of the 9x12 array\n",
    "img_center=np.array([4,5.5])\n",
    "\n",
    "#Label all the driveways and roofs\n",
    "driveway, num_driveway = label(A==1)\n",
    "roof, num_roof = label(A==5)\n",
    "\n",
    "#Save number of driveways into array\n",
    "d=np.arange(1,num_driveway+1)\n",
    "r=np.arange(1,num_roof+1)\n",
    "\n",
    "#Find the center of the all the driveways\n",
    "driveway_center=center_of_mass(A,driveway,d)\n",
    "roof_center=center_of_mass(A,roof,r)\n",
    "\n",
    "print(driveway_center)\n",
    "\n",
    "#Function to find the closest roof/driveway\n",
    "def closest(list,img_center):\n",
    "    closest=list[0]\n",
    "    for c in list:\n",
    "        if np.linalg.norm(c-img_center) < np.linalg.norm(closest-img_center):\n",
    "            closest = c\n",
    "    return closest\n",
    "\n",
    "#Find the closest roof to the center of the image\n",
    "closest_roof=closest(roof_center,img_center)\n",
    "\n",
    "#Find the closest driveway to the closest roof\n",
    "closest_driveway=closest(driveway_center,np.asarray(closest_roof))\n",
    "print(closest_driveway)"
   ]
  },
  {
   "cell_type": "code",
   "execution_count": 8,
   "metadata": {},
   "outputs": [
    {
     "name": "stdout",
     "output_type": "stream",
     "text": [
      "(4, 5)\n"
     ]
    }
   ],
   "source": [
    "#Look for 3x3 driveway when we have reached a certain height (maybe 5m above ground)\n",
    "a=im2\n",
    "\n",
    "#Sliding window function\n",
    "def sliding_window_view(arr, shape):\n",
    "    n = np.array(arr.shape) \n",
    "    o = n - shape + 1 # output shape\n",
    "    strides = arr.strides\n",
    "    \n",
    "    new_shape = np.concatenate((o, shape), axis=0)\n",
    "    new_strides = np.concatenate((strides, strides), axis=0)\n",
    "    return np.lib.stride_tricks.as_strided(arr ,new_shape, new_strides)\n",
    "\n",
    "#Creates a 7x10 ndarray with all the 3x3 submatrices\n",
    "sub_image=sliding_window_view(a,(3,3))\n",
    "\n",
    "#Empty list\n",
    "driveway_list=[]\n",
    "\n",
    "#Loop through the 7x10 ndarray\n",
    "for i in range(0,7):\n",
    "    for j in range(i,10):\n",
    "        #Calculate the total of the  submatrices\n",
    "        output=sum(sum(sub_image[i,j]))\n",
    "        #if the output is 9, that means we have a 3x3 that is all driveway\n",
    "        if output==9:\n",
    "            #append the i(row) and j(column) to a list declared previously\n",
    "            #we add 1 to the i and j to find the center of the 3x3\n",
    "            driveway_list.append((i+1,j+1))\n",
    "            \n",
    "#Call closest function to find driveway closest to house.             \n",
    "closest_driveway=closest(driveway_list,np.asarray(closest_roof))\n",
    "print(closest_driveway)\n"
   ]
  },
  {
   "cell_type": "code",
   "execution_count": 65,
   "metadata": {},
   "outputs": [
    {
     "name": "stdout",
     "output_type": "stream",
     "text": [
      "(4, 5)\n",
      "(1.7853009259259258, 2.314814814814815)\n",
      "[285.64814815 462.96296296]\n"
     ]
    }
   ],
   "source": [
    "#Read altitude from csv & Ground Sampling\n",
    "import csv\n",
    "\n",
    "def GSD(alt):\n",
    "    sensor_height=4.5 #mm\n",
    "    sensor_width=6.17 #mm\n",
    "    focal_length=1.8\n",
    "    image_height=1080 #pixels\n",
    "    image_width=1920 #pixels\n",
    "\n",
    "    #GSD = (sensor height (mm) x flight height (m) x 100) / (focal lenght (mm) x image height (pixel))\n",
    "    GSD_x=((sensor_width*altitude*100)/(focal_length*image_width))\n",
    "    GSD_y=((sensor_height*altitude*100)/(focal_length*image_height))\n",
    "    return (GSD_x,GSD_y)\n",
    "\n",
    "#Read alt.csv\n",
    "with open('alt.csv', 'r') as csvfile:\n",
    "    alt_list = [line.rstrip('\\n') for line in csvfile]\n",
    "        \n",
    "#chose last value in alt_list        \n",
    "altitude=int(alt_list[-1]) #in meters\n",
    "multiplier=GSD(altitude) #cm/pixel\n",
    "move_coordinates=np.asarray(closest_driveway)*np.asarray(multiplier)*40 #40 is the center of the 80x80 superpixel\n",
    "print(closest_driveway)\n",
    "print(multiplier)\n",
    "print(move_coordinates)"
   ]
  },
  {
   "cell_type": "code",
   "execution_count": 239,
   "metadata": {},
   "outputs": [],
   "source": [
    "# Write to CSV\n",
    "import csv\n",
    "with open('coordinates.csv', 'a', newline='') as csvfile:\n",
    "    filewriter = csv.writer(csvfile, delimiter=',')\n",
    "    filewriter.writerow(move_coordinates)"
   ]
  }
 ],
 "metadata": {
  "kernelspec": {
   "display_name": "Python 3",
   "language": "python",
   "name": "python3"
  },
  "language_info": {
   "codemirror_mode": {
    "name": "ipython",
    "version": 3
   },
   "file_extension": ".py",
   "mimetype": "text/x-python",
   "name": "python",
   "nbconvert_exporter": "python",
   "pygments_lexer": "ipython3",
   "version": "3.6.4"
  }
 },
 "nbformat": 4,
 "nbformat_minor": 2
}
