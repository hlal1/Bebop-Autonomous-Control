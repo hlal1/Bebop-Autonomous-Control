{
 "cells": [
  {
   "cell_type": "code",
   "execution_count": 1,
   "metadata": {},
   "outputs": [],
   "source": [
    "import os\n",
    "import numpy as np\n",
    "import pylab\n",
    "import imageio\n",
    "from matplotlib import pyplot as plt\n",
    "import cv2\n",
    "from os.path import isfile, join"
   ]
  },
  {
   "cell_type": "code",
   "execution_count": 2,
   "metadata": {},
   "outputs": [
    {
     "name": "stdout",
     "output_type": "stream",
     "text": [
      "['.ipynb_checkpoints', 'Bebop2_20180414154341-0700.mp4', 'Frames', 'Semantic_Segmentation.ipynb', 'Video Frame Extraction with Function Placeholders.ipynb', 'Video Frame Extraction.ipynb']\n"
     ]
    }
   ],
   "source": [
    "print(os.listdir('.'))"
   ]
  },
  {
   "cell_type": "markdown",
   "metadata": {},
   "source": [
    "**Module to operate on each individual frame of the video**"
   ]
  },
  {
   "cell_type": "code",
   "execution_count": 3,
   "metadata": {},
   "outputs": [],
   "source": [
    "def rgb2gray(rgb):\n",
    "    return np.dot(rgb[...,:3], [0.299, 0.587, 0.114])"
   ]
  },
  {
   "cell_type": "code",
   "execution_count": 4,
   "metadata": {},
   "outputs": [],
   "source": [
    "def ProcessChip (frame):\n",
    "    \n",
    "    result_feature_map = np.zeros((9,16,7))  #CNN feature map to be returned\n",
    "    \n",
    "    for i in range(0,9):\n",
    "        for j in range(0,16):\n",
    "            \n",
    "            chip = frame[120*i:120*(i+1), 120*j:120*(j+1), :]\n",
    "            \n",
    "            #Send chip to CNN or any other operation by calling the function here\n",
    "            #Eg: result = CNN(chip). \n",
    "            \n",
    "            #Uncomment next line to build feature map\n",
    "            #result_feature_map[i,j,:] = result \n",
    "    \n",
    "    #Uncomment next line when you run CNN through all the chips.\n",
    "    #return result_feature_map\n",
    "    \n",
    "    #For now I'm just checking if the function is iterating through the chips correctly.\n",
    "    #Remove next line once CNN call is added. Returns the bottom-left chip of frame.\n",
    "    return chip"
   ]
  },
  {
   "cell_type": "code",
   "execution_count": 5,
   "metadata": {},
   "outputs": [],
   "source": [
    "def ProcessChip2 (frame):\n",
    "    \n",
    "    result_feature_map = np.zeros((9,16,7))  #CNN feature map to be returned\n",
    "    chips = np.zeros((144,120,120,3))\n",
    "    \n",
    "    for i in range(0,9):\n",
    "        for j in range(0,16):\n",
    "            \n",
    "            chips[16*i+j,:,:,:] = frame[120*i:120*(i+1), 120*j:120*(j+1), :]\n",
    "            #chip = frame[120*i:120*(i+1), 120*j:120*(j+1), :]\n",
    "    \n",
    "    #return chips[143,:,:,:]\n",
    "    return rgb2gray(frame)"
   ]
  },
  {
   "cell_type": "raw",
   "metadata": {},
   "source": [
    "temp = []\n",
    "temp_dict = {}\n",
    "for i in range(0,9):\n",
    "        for j in range(0,16):\n",
    "            temp.append(16*(i)+j)\n",
    "            if 16*i+j in temp_dict:\n",
    "                temp_dict[16*i+j] += 1\n",
    "            else:\n",
    "                temp_dict[16*i+j] = 1\n",
    "print(len(temp))"
   ]
  },
  {
   "cell_type": "markdown",
   "metadata": {},
   "source": [
    "**Module to iterate through each frame in video**"
   ]
  },
  {
   "cell_type": "code",
   "execution_count": 6,
   "metadata": {},
   "outputs": [],
   "source": [
    "def VideoToFrames (vid):\n",
    "    \n",
    "    count = 0 # Can be removed. Just to verify number of frames\n",
    "    \n",
    "    for image in vid.iter_data(): #Iterate through every frame in Video\n",
    "        #image: numpy array containing image information\n",
    "\n",
    "        #Insert Function here to operate on frame. For now I've put my ProcessChip() placeholder.\n",
    "        #ProcessChip is currently just returning a chip. Modify its return statement once CNN function call is added.\n",
    "        frame_feature_map = ProcessChip(image)\n",
    "        frame_feature_map_2 = ProcessChip2(image)\n",
    "        #plt.imshow(frame_feature_map_2, interpolation='nearest', cmap = plt.get_cmap('gray'))\n",
    "        #plt.show()\n",
    "        #cv2.imwrite('./Frames/frame%d.jpg'%count, frame_feature_map_2)\n",
    "        #Call the Drone Decision Module here. Will take the 9x16x7 CNN feature map stored in frame_feature_map as input\n",
    "\n",
    "        #The following is to just check if frames are being read correctly. Can be removed.\n",
    "        count += 1\n",
    "        if count > 100:\n",
    "            return\n",
    "        if 1== 0: #Printing every 100th frame to verify\n",
    "            #print (frame_feature_map_2.shape)\n",
    "            print ('The %dth frame: '%count,'\\n')\n",
    "            plt.imshow(image, interpolation='nearest')\n",
    "            plt.show()\n",
    "            print ('Bottom Left Chip from the %dth frame: '%count,'\\n') #Printing bottom left chip of every 100th frame\n",
    "            plt.imshow(frame_feature_map, interpolation='nearest')\n",
    "            plt.show()\n",
    "            print ('Bottom Left Chip from the %dth frame using chips: '%count,'\\n') #Printing bottom left chip of every 100th frame\n",
    "            plt.imshow(frame_feature_map_2, interpolation='nearest')\n",
    "            plt.show()\n",
    "            \n",
    "    return"
   ]
  },
  {
   "cell_type": "markdown",
   "metadata": {},
   "source": [
    "**Module to convert Image Frames to Video**"
   ]
  },
  {
   "cell_type": "code",
   "execution_count": 7,
   "metadata": {},
   "outputs": [],
   "source": [
    "def convert_frames_to_video(pathIn,pathOut,fps):\n",
    "    frame_array = []\n",
    "    files = [f for f in os.listdir(pathIn) if isfile(join(pathIn, f))]\n",
    " \n",
    "    #for sorting the file names properly\n",
    "    files.sort(key = lambda x: int(x[5:-4]))\n",
    " \n",
    "    for i in range(len(files)):\n",
    "        filename=pathIn + files[i]\n",
    "        #reading each file\n",
    "        img = cv2.imread(filename)\n",
    "        height, width, layers = img.shape\n",
    "        size = (width,height)\n",
    "        print(filename)\n",
    "        #inserting the frames into an image array\n",
    "        frame_array.append(img)\n",
    " \n",
    "    out = cv2.VideoWriter(pathOut,cv2.VideoWriter_fourcc(*'DIVX'), fps, size)\n",
    " \n",
    "    for i in range(len(frame_array)):\n",
    "        # writing to a image array\n",
    "        out.write(frame_array[i])\n",
    "    out.release()"
   ]
  },
  {
   "cell_type": "code",
   "execution_count": 8,
   "metadata": {},
   "outputs": [],
   "source": [
    "filename = './Bebop2_20180414154341-0700.mp4' #Add path to video file"
   ]
  },
  {
   "cell_type": "code",
   "execution_count": 9,
   "metadata": {},
   "outputs": [
    {
     "name": "stderr",
     "output_type": "stream",
     "text": [
      "WARNING:root:Warning: the frame size for reading (1920, 1080) is different from the source frame size (800, 450).\n"
     ]
    }
   ],
   "source": [
    "vid = imageio.get_reader(filename, 'ffmpeg') #You can use any reader of your choice\n",
    "#print (vid.iter_data())"
   ]
  },
  {
   "cell_type": "code",
   "execution_count": 10,
   "metadata": {},
   "outputs": [],
   "source": [
    "VideoToFrames(vid) #Passing the video to be analyzed frame by frame"
   ]
  },
  {
   "cell_type": "markdown",
   "metadata": {},
   "source": [
    "**Frames to Video**"
   ]
  },
  {
   "cell_type": "raw",
   "metadata": {},
   "source": [
    "convert_frames_to_video('./Frames/', 'out.mp4', 25.0)"
   ]
  },
  {
   "cell_type": "markdown",
   "metadata": {},
   "source": [
    "**Frames Verification** \n",
    "\n",
    "You can also put some sort of check in this in case you don't want the drone to execute an action. For now I'm just checking if the frames are read in correctly."
   ]
  },
  {
   "cell_type": "code",
   "execution_count": null,
   "metadata": {},
   "outputs": [],
   "source": [
    "count = 0\n",
    "try:\n",
    "    for _ in vid:\n",
    "        count += 1\n",
    "except RuntimeError:\n",
    "    print('Something went wront in iterating, maybe wrong fps number?')\n",
    "finally:\n",
    "    print('Number of frames counted {} \\nNumber of frames in metada {}'.format(count, vid.get_meta_data()['nframes']))"
   ]
  },
  {
   "cell_type": "code",
   "execution_count": null,
   "metadata": {},
   "outputs": [],
   "source": []
  }
 ],
 "metadata": {
  "kernelspec": {
   "display_name": "Python 3",
   "language": "python",
   "name": "python3"
  },
  "language_info": {
   "codemirror_mode": {
    "name": "ipython",
    "version": 3
   },
   "file_extension": ".py",
   "mimetype": "text/x-python",
   "name": "python",
   "nbconvert_exporter": "python",
   "pygments_lexer": "ipython3",
   "version": "3.5.5"
  },
  "widgets": {
   "state": {},
   "version": "1.1.2"
  }
 },
 "nbformat": 4,
 "nbformat_minor": 2
}
